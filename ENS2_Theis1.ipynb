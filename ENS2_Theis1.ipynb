{
 "cells": [
  {
   "cell_type": "markdown",
   "metadata": {},
   "source": [
    "<figure>\n",
    "  <IMG SRC=\"LogoENSEGID.png\" WIDTH=125 ALIGN=\"right\">\n",
    "</figure>\n",
    "\n",
    "# EQUATION DE DIFFUSIVITE: SOLUTION DE THEIS ET COOPER-JACOB APPLICABLES AUX ESSAIS DE NAPPE\n",
    "\n",
    "# Approche théorique préalable\n",
    "\n"
   ]
  },
  {
   "cell_type": "markdown",
   "metadata": {},
   "source": [
    "Préambule: ce cours est adapté du cours \"Transient Groundwater Flow Short Course (Module 3 at UNESCO-IHE, Delft, Netherlands)\" construit par Theo Olsthoorn, 08-Jan-2018\n",
    "\n",
    "## Equation de diffusivité\n",
    "\n",
    "$$\\frac{\\partial^2 h}{\\partial r^2} + \\frac{1}{r}\\frac{\\partial h}{\\partial r} = \\frac{S}{Kb} \\times \\frac{\\partial h}{\\partial t}$$\n",
    "\n",
    "## Solution de Theis \n",
    "\n",
    "### Hypothèses:\n",
    "- Aquifère reposant sur un couche imperméable\n",
    "- Formations géologiques homogènes, isotropes, horizontales et d'extension horizontale infinie\n",
    "- Surface piézométrique initialement horizontale\n",
    "- Loi de Darcy valide\n",
    "- Puits parfait et de diamètre négligeable\n",
    "- Eau provient uniquement de la décompression de l'aquifère\n",
    "\n",
    "### Equation de Theis \n",
    "En réalisation le changement de variable suivant:\n",
    "$$\n",
    "\tu = \\frac{r^2S}{4Kbt}\n",
    "$$\n",
    "\n",
    "La résolution de l'équation de diffusivité pour les hypothèses (conditions limites) précédentes amène la solution de Theis\n",
    "\n",
    "$$\n",
    "    s = \\frac{Q}{4 \\pi T} \\int_{u}^{\\infty} {\\frac{e^{-y}}{y}} \\mathrm{d}y\n",
    "$$\n",
    "\n",
    "### Fonction de Theis\n",
    "Cette résolution introduit la fonction de Theis  $W(u)$ définie par analogie à l'équation précédente:\n",
    "\n",
    "$$\n",
    "\tW(u) = \\int_{u}^{\\infty} {\\frac{e^{-y}}{y}} \\mathrm{d}y\n",
    "$$\n",
    "\n",
    "Cette fonction peut être rapprochée de la fonction Exponentielle Intégrale $E_i$ connue en mathématiques:\n",
    "\n",
    "$$\n",
    "\tE_i = \\int_{-\\infty}^{u} {\\frac{e^{y}}{y}} \\mathrm{d}y\n",
    "$$\n",
    "Une fonction alternative $E_1$ peut être définie, de la même famille que la fonction exponentielle intégrale $E_i$ telle que:\n",
    "\n",
    "$$\n",
    "    E_1(x) = -E_i(-x) = \\int_{x}^{\\infty} {\\frac{e^{-y}}{y}} \\mathrm{d}y = W(u)\n",
    "$$\n"
   ]
  },
  {
   "cell_type": "markdown",
   "metadata": {},
   "source": [
    "### Calcul de W(u) à partir des fonctionnalités de Python\n",
    "\n",
    "La fonction exponetielle intégrale est implémentée dans la bibliothèque \"Scipy.Special\" sous la forme \"exp1\".\n",
    "On peut directement calculer la valeur $W(u$) telle que:\n",
    "$$\n",
    "    W(u) = \\int_{u}^{\\infty} {\\frac{e^{-y}}{y}} \\mathrm{d}y = exp1(u)\n",
    "$$  \n",
    "\n",
    "### Calcul de W(u) à partir d'une intégration numérique\n",
    "\n",
    "Comme toute fonction mathématique continue et dérivable, la fonction de Theis peut faire l'objet d'une intégration numérique afin d'estimer la valeur de $W(u)$ pour toute valeur de borne particulière $u$.\n",
    "\n",
    "Afin de réaliser cette intégration, il est nécessaire de réécrire la forme continue de la fonction de Theis à l'aide d'une formulation discontinue:\n",
    "$$\n",
    "    W(u) = \\intop_u^{-\\infty} \\frac {e^{-y}} y dy \\approx \\sum_0^N \\frac {e^{-y_i}} {y_i} \\Delta y_i\n",
    "$$\n",
    "\n",
    "où $y_0 = u_0$ et $N$ est un entier suffisamment grand.\n",
    "\n",
    "Le module numpy permet de réaliser simplement une intégration numérique, en définissant préalablement la fonction à intégrer comme une fonction Python."
   ]
  },
  {
   "cell_type": "code",
   "execution_count": 6,
   "metadata": {},
   "outputs": [
    {
     "name": "stdout",
     "output_type": "stream",
     "text": [
      "exp1(u)    = 0.3105965785455431 , module scipy.special\n",
      "Wint(u))   = 0.31060111151300185 , intégration de la fonction de Theis\n"
     ]
    }
   ],
   "source": [
    "import numpy as np\n",
    "import scipy.special as sp\n",
    "import matplotlib.pyplot as plt\n",
    "\n",
    "u = 0.8  # choisir une valeur de u\n",
    "\n",
    "def Wint(u):\n",
    "    '''Renvoie la valeur de la fonction de Theis obtenue par intégration numérique'''\n",
    "    LOG10INF = 2 # sufficient as exp(-100) is in the order of 1e-50\n",
    "    y = np.logspace(np.log10(u), LOG10INF, num=1000)\n",
    "    arg = np.exp(-y) / y\n",
    "    dy = np.diff(y)\n",
    "    w = np.sum(0.5 * (arg[:-1] + arg[1:]) * dy)\n",
    "    return w\n",
    "\n",
    "print('exp1(u)    =', sp.exp1(u),', module scipy.special')\n",
    "print('Wint(u))   =', Wint(u),', intégration de la fonction de Theis')"
   ]
  },
  {
   "cell_type": "markdown",
   "metadata": {},
   "source": [
    "### Représentation graphique et courbe de Theis\n",
    "\n",
    "La courbe de Theis correspond à une abaque exprimant $W(u)$ pour différentes valeurs de $u$. Cette courbe permet d'éviter à avoir à calculer la fonction intégrale. Cette courbe était très utilisée en hydrogéologie lorsque les outils de calculs étaient moins accessibles qu'aujourd'hui.\n",
    "\n",
    "On utilise deux modes de représentation: $W(u) = f(u)$ et $W(u) = f(1/u)$\n",
    "\n",
    "La représentation $W(u) = f(1/u)$ est souvent préférée car elle permet une comparaison directe avec les mesures réalisées sur le terrain lors des essais de nappe."
   ]
  },
  {
   "cell_type": "code",
   "execution_count": 7,
   "metadata": {},
   "outputs": [
    {
     "data": {
      "image/png": "[encoded data removed]",
      "text/plain": [
       "<Figure size 432x288 with 1 Axes>"
      ]
     },
     "metadata": {
      "needs_background": "light"
     },
     "output_type": "display_data"
    },
    {
     "data": {
      "image/png": "[encoded data removed]",
      "text/plain": [
       "<Figure size 432x288 with 1 Axes>"
      ]
     },
     "metadata": {
      "needs_background": "light"
     },
     "output_type": "display_data"
    }
   ],
   "source": [
    "import numpy as np\n",
    "import scipy.special as sp\n",
    "import matplotlib.pyplot as plt\n",
    "\n",
    "# calcul de u avec echantillonnage log10\n",
    "u = np.logspace(-5, 1, 61)\n",
    "\n",
    "# paramétrage de la figure W(u) = f(1/u)\n",
    "plt.title('Courbe type de Theis versus 1/u')\n",
    "plt.xlabel('1/u')\n",
    "plt.ylabel('W(u)')\n",
    "plt.xscale('log')\n",
    "plt.yscale('log')\n",
    "plt.grid()\n",
    "\n",
    "plt.plot(1/u, sp.exp1(u)) # plot well function versus 1/u\n",
    "\n",
    "plt.show()\n",
    "\n",
    "# paramétrage de la figure W(u) = f(u)\n",
    "plt.title('Courbe type de Theis versus u')\n",
    "plt.xlabel('u')\n",
    "plt.ylabel('W(u)')\n",
    "plt.xscale('log')\n",
    "plt.yscale('log')\n",
    "plt.grid()\n",
    "\n",
    "plt.plot(u, sp.exp1(u)) # plot well function versus u\n",
    "\n",
    "plt.show()"
   ]
  },
  {
   "cell_type": "markdown",
   "metadata": {},
   "source": [
    "Lorsqu'on ne dispose pas de moyen de calcul, il existe des tableaux dans tous les livres d'hydrogéologie permettant de trouver les valeurs de $W(u)$ pour $u$, selon le principe des tables de lois statistiques.\n",
    "Le tableau suivant est tiré de Kruseman et de Ridder (date)\n",
    "<figure>\n",
    "  <IMG SRC=\"ENS2_Hydrodyn_8.png\" WIDTH=1250 ALIGN=\"right\">\n",
    "</figure>"
   ]
  },
  {
   "cell_type": "code",
   "execution_count": 11,
   "metadata": {
    "collapsed": true,
    "jupyter": {
     "outputs_hidden": true
    }
   },
   "outputs": [
    {
     "name": "stdout",
     "output_type": "stream",
     "text": [
      "      u           W(u)\n",
      "  1.00e-05    1.094e+01\n",
      "  2.07e-05    1.021e+01\n",
      "  4.28e-05    9.481e+00\n",
      "  8.86e-05    8.754e+00\n",
      "  1.83e-04    8.027e+00\n",
      "  3.79e-04    7.300e+00\n",
      "  7.85e-04    6.574e+00\n",
      "  1.62e-03    5.847e+00\n",
      "  3.36e-03    5.122e+00\n",
      "  6.95e-03    4.398e+00\n",
      "  1.44e-02    3.679e+00\n",
      "  2.98e-02    2.967e+00\n",
      "  6.16e-02    2.271e+00\n",
      "  1.27e-01    1.606e+00\n",
      "  2.64e-01    1.003e+00\n",
      "  5.46e-01    5.081e-01\n",
      "  1.13e+00    1.775e-01\n",
      "  2.34e+00    3.098e-02\n",
      "  4.83e+00    1.398e-03\n",
      "  1.00e+01    4.157e-06\n"
     ]
    }
   ],
   "source": [
    "import numpy as np\n",
    "import scipy.special as sp\n",
    "import matplotlib.pyplot as plt\n",
    "\n",
    "U = np.logspace(-5, 1, 20)\n",
    "\n",
    "print(\"{:>10s}  {:>10s}\".format('u   ', 'W(u)'))\n",
    "\n",
    "for u in U:\n",
    "    print(\"{0:10.2e}   {1:10.3e}\".format(u, sp.exp1(u)))\n"
   ]
  },
  {
   "cell_type": "markdown",
   "metadata": {},
   "source": [
    "### Expression de la fonction de Theis à partir d'un développement en série de Taylor\n"
   ]
  },
  {
   "cell_type": "markdown",
   "metadata": {},
   "source": [
    "La fonction de Theis peut également être exprimée selon un développement en série de Taylor. On obtient une formulation en série infinie de puissance:\n",
    "\n",
    "$$\n",
    "    W(u) = -\\gamma - ln(u) - \\sum_{n=1}^{\\infty} {\\frac{(-1)^n u^n}{n(n)!}}\n",
    "$$\n",
    "\n",
    "soit sous la forme développée\n",
    "\n",
    "$$\n",
    "    W(u) = -\\gamma - ln(u) + u -\\frac{u^2}{2.2!} + \\frac{u^3}{3.3!} - \\frac{u^4}{4.4!} + - \\frac{u^5}{5.5!} - \\cdots\n",
    "$$\n",
    "\n",
    "avec $\\gamma = 0.5773$ (nombre d'Euler).\n",
    "\n",
    "Cette expression corresponds à une série infinie convergente. $W(u)$ peut être approché en tronquant la série infinie après un nombre de terme suffisant\n",
    "\n",
    "Par exemple, en tronquant la série au 4ème terme:\n",
    "$$\n",
    "    W(u) = -\\gamma - ln(u) + u -\\frac{u^2}{2.2!} + \\frac{u^3}{3.3!} - \\frac{u^4}{4.4!}\n",
    "$$\n"
   ]
  },
  {
   "cell_type": "code",
   "execution_count": 4,
   "metadata": {
    "collapsed": true,
    "jupyter": {
     "outputs_hidden": true
    }
   },
   "outputs": [
    {
     "name": "stdout",
     "output_type": "stream",
     "text": [
      "      u    W(u) série tronquée  \n",
      "4.000e+00 -1.075e+00 3.779e-03\n",
      "4.000e-01 7.024e-01 7.024e-01\n",
      "4.000e-02 2.681e+00 2.681e+00\n",
      "4.000e-03 4.948e+00 4.948e+00\n",
      "4.000e-04 7.247e+00 7.247e+00\n",
      "4.000e-05 9.549e+00 9.549e+00\n",
      "4.000e-06 1.185e+01 1.185e+01\n",
      "4.000e-07 1.415e+01 1.415e+01\n",
      "4.000e-08 1.646e+01 1.646e+01\n",
      "4.000e-09 1.876e+01 1.876e+01\n",
      "4.000e-10 2.106e+01 2.106e+01\n"
     ]
    }
   ],
   "source": [
    "import numpy as np\n",
    "import scipy.special as sp\n",
    "import matplotlib.pyplot as plt\n",
    "\n",
    "U = 4.0 * 10** -np.arange(11.)   # generates values 4, 4e-1, 4e-2 .. 4e-10\n",
    "print(\"{:>10s} {:>10s}\".format('u   ', 'W(u) série tronquée  ', 'W(u) Theis'))\n",
    "for u in U:\n",
    "    W = sp.exp1(u)\n",
    "    w = -0.5772 -np.log(u) + u - ((u)**2)/(2*sp.factorial(2)) + ((u)**3)/(3*sp.factorial(3))- ((u)**4)/(4*sp.factorial(4))\n",
    "    print(\"{:.3e} {:.3e} {:.3e}\".format(u, w, W))"
   ]
  },
  {
   "cell_type": "code",
   "execution_count": 15,
   "metadata": {
    "collapsed": true,
    "jupyter": {
     "outputs_hidden": true
    }
   },
   "outputs": [
    {
     "data": {
      "image/png": "[encoded data removed]",
      "text/plain": [
       "<Figure size 432x288 with 1 Axes>"
      ]
     },
     "metadata": {
      "needs_background": "light"
     },
     "output_type": "display_data"
    }
   ],
   "source": [
    "import numpy as np\n",
    "import scipy.special as sp\n",
    "import matplotlib.pyplot as plt\n",
    "\n",
    "# calcul de u avec echantillonnage log10\n",
    "u = np.logspace(-3, 1, 61)\n",
    "W = sp.exp1(u)\n",
    "w = -0.5772 -np.log(u) + u - ((u)**2)/(2*sp.factorial(2)) + ((u)**3)/(3*sp.factorial(3))- ((u)**4)/(4*sp.factorial(4))\n",
    "  \n",
    "# paramétrage de la figure W(u) = f(u)\n",
    "plt.title('Fonction de Theis')\n",
    "plt.xlabel('u')\n",
    "plt.ylabel('W(u)')\n",
    "plt.xscale('log')\n",
    "plt.yscale('log')\n",
    "plt.grid()\n",
    "\n",
    "plt.plot(u, W) \n",
    "plt.plot(u, w) \n",
    "plt.show()\n",
    "\n"
   ]
  },
  {
   "cell_type": "markdown",
   "metadata": {},
   "source": [
    "La solution tronquée (ici à l'ordre 4) diverge de la solution exacte de Theis pour les fortes valeurs de u.\n",
    "\n",
    "Il est interessant d'étudier cette divergence en fonction de l'ordre de troncature utilisé pour simplifier le développement de Taylor\n"
   ]
  },
  {
   "cell_type": "code",
   "execution_count": 1,
   "metadata": {},
   "outputs": [
    {
     "data": {
      "image/png": "[encoded data removed]",
      "text/plain": [
       "<Figure size 432x288 with 1 Axes>"
      ]
     },
     "metadata": {
      "needs_background": "light"
     },
     "output_type": "display_data"
    }
   ],
   "source": [
    "import numpy as np\n",
    "import scipy.special as sp\n",
    "import matplotlib.pyplot as plt\n",
    "\n",
    "u = np.logspace(-2, 1, 61)\n",
    "W = sp.exp1(u)\n",
    "w4 = -0.5772 -np.log(u) + u - ((u)**2)/(2*sp.factorial(2)) + ((u)**3)/(3*sp.factorial(3))- ((u)**4)/(4*sp.factorial(4))\n",
    "w3 = -0.5772 -np.log(u) + u - ((u)**2)/(2*sp.factorial(2)) + ((u)**3)/(3*sp.factorial(3))\n",
    "w2 = -0.5772 -np.log(u) + u - ((u)**2)/(2*sp.factorial(2))\n",
    "w1 = -0.5772 -np.log(u) + u\n",
    "\n",
    "import matplotlib.pylab as plt\n",
    "\n",
    "fig1= plt.figure()\n",
    "ax1 = fig1.add_subplot(111)\n",
    "ax1.set(xlabel='1/u', ylabel='W(u)', title='Sensibilité de la troncature - Taylor', xscale='log')\n",
    "ax1.grid(True)\n",
    "ax1.plot(u, W, 'b', label='W(u)')\n",
    "#ax1.plot(u, W1(u), 'rx', label='integal') # works only for scalars\n",
    "ax1.plot(u, w1, 'g+--', label='ordre 1')\n",
    "ax1.plot(u, w2, 'r+--', label='ordre 2')\n",
    "ax1.plot(u, w3, 'k+--', label='ordre 3')\n",
    "ax1.plot(u, w4, 'm+--', label='ordre 4')\n",
    "ax1.legend(loc='best')\n",
    "\n",
    "plt.show()"
   ]
  },
  {
   "cell_type": "code",
   "execution_count": 2,
   "metadata": {
    "scrolled": true
   },
   "outputs": [
    {
     "data": {
      "image/png": "[encoded data removed]",
      "text/plain": [
       "<Figure size 432x288 with 1 Axes>"
      ]
     },
     "metadata": {
      "needs_background": "light"
     },
     "output_type": "display_data"
    }
   ],
   "source": [
    "import numpy as np\n",
    "import scipy.special as sp\n",
    "import matplotlib.pyplot as plt\n",
    "#import matplotlib.pylab as plt\n",
    "\n",
    "u = np.logspace(0, 1, 61)\n",
    "W = sp.exp1(u)\n",
    "w4 = -0.5772 -np.log(u) + u - ((u)**2)/(2*sp.factorial(2)) + ((u)**3)/(3*sp.factorial(3))- ((u)**4)/(4*sp.factorial(4))\n",
    "w3 = -0.5772 -np.log(u) + u - ((u)**2)/(2*sp.factorial(2)) + ((u)**3)/(3*sp.factorial(3))\n",
    "w2 = -0.5772 -np.log(u) + u - ((u)**2)/(2*sp.factorial(2))\n",
    "w1 = -0.5772 -np.log(u) + u\n",
    "\n",
    "taylor = (W,w1,w2,w3,w4)\n",
    "\n",
    "I=np.arange(1,len(taylor))\n",
    "\n",
    "fig1= plt.figure()\n",
    "ax1 = fig1.add_subplot(111)\n",
    "ax1.set(xlabel= 'u', ylabel='W(u)', title='Sensibilité de la troncature - Taylor', xscale='log')\n",
    "ax1.grid(True)\n",
    "ax1.plot(u, taylor[0], 'b', label='W(u)')\n",
    "for i in I:\n",
    "    ax1.plot(u, taylor[i], label='Ordre %s' % i)\n",
    "ax1.legend(loc='best')\n",
    "\n",
    "plt.show()"
   ]
  },
  {
   "cell_type": "markdown",
   "metadata": {},
   "source": [
    "La précision de l'approximation de la fonction de Theis par le développement en série de Taylor est liée à l'ordre de la troncature. On peut illustrer cette observation en introduisant le calcul d'un écart normalisé entre la fonction de Theis et la troncature de Taylor:\n",
    "\n",
    "$$\n",
    "\\Delta = 1 - \\frac{W_{taylor}}{W(u)}\n",
    "$$\n",
    "\n",
    "\n"
   ]
  },
  {
   "cell_type": "code",
   "execution_count": 3,
   "metadata": {},
   "outputs": [
    {
     "name": "stdout",
     "output_type": "stream",
     "text": [
      "           u          W(u)          W4(u)   1-W4(u)/W(u)          W1(u)   1-W1(u)/W(u)\n",
      "        0.01          4.04          4.04         -0.0%          4.04         -0.0%\n",
      "      0.0126          3.81          3.81         -0.0%          3.81         -0.0%\n",
      "      0.0158          3.58          3.58         -0.0%          3.58         -0.0%\n",
      "        0.02          3.36          3.36         -0.0%          3.36         -0.0%\n",
      "      0.0251          3.13          3.13         -0.0%          3.13         -0.0%\n",
      "      0.0316          2.91          2.91         -0.0%          2.91         -0.0%\n",
      "      0.0398          2.69          2.69         -0.0%          2.69         -0.0%\n",
      "      0.0501          2.47          2.47         -0.0%          2.47         -0.0%\n",
      "      0.0631          2.25          2.25         -0.0%          2.25         -0.0%\n",
      "      0.0794          2.03          2.03         -0.0%          2.04         -0.1%\n",
      "         0.1          1.82          1.82         -0.0%          1.83         -0.1%\n",
      "       0.126          1.62          1.62         -0.0%          1.62         -0.2%\n",
      "       0.158          1.42          1.42         -0.0%          1.42         -0.4%\n",
      "         0.2          1.22          1.22         -0.0%          1.23         -0.8%\n",
      "       0.251          1.04          1.04         -0.0%          1.06         -1.4%\n",
      "       0.316         0.867         0.867         -0.0%          0.89         -2.7%\n",
      "       0.398         0.706         0.706          0.0%         0.742         -5.2%\n",
      "       0.501         0.558         0.558          0.0%         0.615        -10.1%\n",
      "       0.631         0.427         0.427          0.0%         0.514        -20.4%\n",
      "       0.794         0.314         0.313          0.1%         0.447        -42.6%\n",
      "           1         0.219         0.218          0.7%         0.423        -92.7%\n"
     ]
    }
   ],
   "source": [
    "import numpy as np\n",
    "import scipy.special as sp\n",
    "\n",
    "\n",
    "U = np.logspace(-2, 0, 21)\n",
    "W = lambda u : sp.exp1(u)\n",
    "w4 = lambda u : -0.5772 -np.log(u) + u - ((u)**2)/(2*sp.factorial(2)) + ((u)**3)/(3*sp.factorial(3))- ((u)**4)/(4*sp.factorial(4))\n",
    "w1 = lambda u : -0.5772 -np.log(u) + u\n",
    "\n",
    "print(\"{:>12s}  {:>12s}   {:>12s}   {:>12s}   {:>12s}   {:>12s}\".format('u','W(u)','W4(u)','1-W4(u)/W(u)','W1(u)','1-W1(u)/W(u)'))\n",
    "for u in U:\n",
    "    print(\"{:12.3g}  {:12.3g}  {:12.3g}  {:12.1%}  {:12.3g}  {:12.1%}\".format(u, W(u), w4(u), 1-w4(u)/W(u), w1(u), 1-w1(u)/W(u)))\n"
   ]
  },
  {
   "cell_type": "markdown",
   "metadata": {},
   "source": [
    "## Approximation de Cooper-Jacob \n",
    "\n",
    "On a vu précemment que la fonction de Theis pouvait s'exprimer à partir d'un développement en série de Taylor sous la forme:\n",
    "\n",
    "$$\n",
    "    W(u) = -\\gamma - ln(u) + u -\\frac{u^2}{2.2!} + \\frac{u^3}{3.3!} - \\frac{u^4}{4.4!} + - \\frac{u^5}{5.5!} - \\cdots\n",
    "$$\n",
    "\n",
    "avec $\\gamma = 0.5773$ (nombre d'Euler).\n",
    "\n",
    "L'étude de ce développement que nous avons réalisé a mis en évidence la possibilité tronquer la série infinie, pour obtenir une solution approchée de la fonction de Theis.\n",
    "\n",
    "En 1946, Jacob puis Jacob et Cooper (1951) proposent l'approximation suivante pour la fonction de Theis:\n",
    "\n",
    "$$\n",
    "    W(u) \\approx -\\gamma - ln(u) \n",
    "$$\n",
    "\n",
    "sous condition que $u$ soit suffisamment faible. En pratique:\n",
    "\n",
    "$$\n",
    "u < 1.10^{-2}\n",
    "$$\n",
    "\n",
    "Puisque $u = \\frac{r^2S}{4Tt}$ on peut réécrire:\n",
    "\n",
    "$$\n",
    "    W(u) \\approx -\\gamma - ln\\left({\\frac{r^2S}{4Tt}}\\right) \\approx -\\gamma + ln\\left({\\frac{4Tt}{r^2S}}\\right) \\approx ln\\left({\\frac{4Tt}{e^{\\gamma}r^2S}}\\right) \\approx ln\\left({\\frac{2.25Tt}{r^2S}}\\right)\n",
    "$$\n",
    "\n",
    "La formulation de Cooper-Jacob pour la solution de Theis est :\n",
    "\n",
    "$$\n",
    "s = \\frac{Q}{4 \\pi T} ln\\left({\\frac{2.25Tt}{r^2S}}\\right)\n",
    "$$\n",
    "\n",
    "ou en exprimant le logarithme en base 10:\n",
    "\n",
    "$$\n",
    "s = \\frac{2.3Q}{4 \\pi T} log\\left({\\frac{2.25Tt}{r^2S}}\\right)\n",
    "$$\n",
    "\n",
    "Cette formulation ne reste applicable que pour $ \\frac{r^2S}{4Tt} < 1.10^{-2}$\n",
    "\n"
   ]
  },
  {
   "cell_type": "markdown",
   "metadata": {},
   "source": [
    "## Estimation de l'impact de pompages\n",
    "\n"
   ]
  },
  {
   "cell_type": "markdown",
   "metadata": {},
   "source": [
    "### Puits de pompage unique\n",
    "\n",
    "Un puits parfait exploite une nappe captive d'épaisseur constante $b$. La conductivité hydraulique $K$ est supposée constante. Le puits est exploité au débit constant $Q$.\n",
    "\n",
    "*Calculer le rabattement au bout d'une durée d'exploitation $t$ à une distance d'observation $r$ du puits d'exploitation.*\n",
    " - $K = 3.10^{-4} \\ m.s^{-1}$\n",
    " - $S = 2.10^{-4}$\n",
    " - $b =25 \\ m$\n",
    " - $r = 42 \\ m$\n",
    " - $Q = 135 \\ m^3.h^{-1}$\n",
    " - $t = 5 \\ h$-  $r = 42 \\ m$\n",
    "\n",
    "\n",
    "\n",
    "La solution analytique de Theis est:\n",
    "$$\ts = \\frac{Q}{4 \\pi T} W(u) = \\frac{Q}{4 \\pi T} W \\left( {\\frac{r^2S}{4Tt}} \\right)\n",
    "$$\t\n",
    "Il faut dans un premier temps calculer le terme $u$ puits à l'aide de l'abaque, du tableau ou d'un calculateur, calculer le terme de Theis $W(u)$. Il faut rester cohérent avec les unités (SI par défaut).\n",
    "\n",
    "On a donc:\n",
    "$$\n",
    "u = {\\frac{r^2S}{4Tt}}\n",
    "$$\n",
    "Et pour le calcul du rabattement:\n",
    "\n",
    "$$\n",
    "s = \\frac{Q}{4 \\pi T} W(u)\n",
    "$$\n"
   ]
  },
  {
   "cell_type": "code",
   "execution_count": 19,
   "metadata": {},
   "outputs": [
    {
     "name": "stdout",
     "output_type": "stream",
     "text": [
      "La variable de Theis est u = 6.53e-04\n",
      "Le rabattement calculé au puits est s = 2.69 m\n"
     ]
    }
   ],
   "source": [
    "import numpy as np\n",
    "import scipy.special as sp\n",
    "import matplotlib.pyplot as plt\n",
    "\n",
    "K = 3e-4 # m/s\n",
    "S = 2e-4\n",
    "b = 25 #m\n",
    "r = 42 #m\n",
    "Q = 135 # m3/heure\n",
    "t = 5 #heure\n",
    "\n",
    "u = (S * r ** 2)/(4 * K * b * t*3600)\n",
    "s = (Q/3600)/(4 * 3.1415 * K * b)* sp.exp1(u)\n",
    "\n",
    "print('La variable de Theis est u = {:.2e}'.format(u))\n",
    "print('Le rabattement calculé au puits est s = {:.3g} m'.format(s))\n"
   ]
  },
  {
   "cell_type": "markdown",
   "metadata": {},
   "source": [
    "Le rabattement peut être calculé à partir de la solution de Cooper-Jacob:\n",
    "\n",
    "$$\n",
    "s = \\frac{2.3Q}{4 \\pi T} Log\\left({\\frac{2.25Tt}{r^2S}}\\right)\n",
    "$$\n",
    "\n",
    "Il faut au préalable s'assurer de la validité de la solution en vérifiant $ \\frac{r^2S}{4Tt} < 1.10^{-2}$\n"
   ]
  },
  {
   "cell_type": "code",
   "execution_count": 25,
   "metadata": {},
   "outputs": [
    {
     "name": "stdout",
     "output_type": "stream",
     "text": [
      "La variable de Theis est u = 6.53e-04 La condition u< 0.01 est vérifiée\n",
      "Le rabattement calculé au puits est s = 2.69 m\n"
     ]
    }
   ],
   "source": [
    "import numpy as np\n",
    "import scipy.special as sp\n",
    "import matplotlib.pyplot as plt\n",
    "\n",
    "K = 3e-4 # m/s\n",
    "S = 2e-4\n",
    "b = 25 #m\n",
    "r = 42 #m\n",
    "Q = 135 # m3/heure\n",
    "t = 5 #heure\n",
    "\n",
    "u = (S * r ** 2)/(4 * K * b * t*3600)\n",
    "\n",
    "print('La variable de Theis est u = {:.2e}'.format(u), 'La condition u< 0.01 est vérifiée')\n",
    "\n",
    "sj = (2.3*Q/3600)/(4 * 3.1415 * K * b)*np.log10((2.25*K*b*t*3600)/(S * (r ** 2)))\n",
    "\n",
    "print('Le rabattement calculé au puits est s = {:.3g} m'.format(sj))\n"
   ]
  },
  {
   "cell_type": "markdown",
   "metadata": {},
   "source": [
    "### Puits de pompage multiples\n",
    "\n",
    "\n",
    "### Principe de superposition\n",
    "\n",
    "Le principe de superposition pose que pour tout système linéaire, la réponse causée par deux ou plusieurs stimuli est la somme des réponses qui auraient été engendrées par chaque stimulus individuellement. Ainsi si la stimulation A produit la réponse $X$ et si la stimulation $B$ produit la réponse $Y$, alors la stimulation $(A + B)$ générera la réponse $(X + Y)$.\n",
    "Une fonction $F(x)$ qui répond au principe de superposition est appelée une fonction linéaire.\n",
    "\n",
    "La superposition peut être définie pour la fonction par 2 propriétés: additivité et homogénéité\n",
    "\n",
    "- Additivité\n",
    "\n",
    "$$\n",
    "F(x+y) = F(x) + F(y)\n",
    "$$\n",
    "\n",
    "- Homogénéité\n",
    "\n",
    "$$\n",
    "F(ax) = aF(x)\n",
    "$$\n",
    "\n",
    "L'équation de diffusivité pour un système captif homogène est une équation linéaire. On peut donc lui appliquer le principe de superposition. On peut également appliquer ce principe à toutes les équations qui correspondent à des solutions particulières de cette équation mère.\n",
    "A ce titre, le principe de superposition peut être utilisé pour l'équation de Theis.\n",
    "\n",
    "L'application du principe de superposition à l'équation de diffusivité trouve de nombreuses utilisations en hydrogéologie pratique:\n",
    "- estimation de l'influence de pompage à débit variable;\n",
    "- estimation de l'influence de pompages simultanés;\n",
    "- étude de l'arrêt d'un pompage;\n",
    "- étude de l'influence de limites spatiales de l'aquifère sur l'évolution de la piézométrie lors d'un pompage;\n",
    "- etc ...\n",
    "\n",
    "#### Etude d'un champ captant\n",
    "\n",
    "Un champ captant est un dispositif d'exploitation d'une nappe constitué par plusieurs puits de pompage exploités simulanément ou de manière asynchrone. L'étude de l'impact sur la nappe peut être abordé à partir du principe de superposition et de la solution de Theis.\n",
    "\n",
    "<figure>\n",
    "  <IMG SRC=\"theis4.png\" WIDTH=275 ALIGN=\"center\">\n",
    "</figure>\n",
    "    \n",
    "On considère $n$ puits exploités aux débits $Q_1,\\ Q_2,\\ ... ,\\ Q_n$. Le rabattement total $s_T$ à un point d'observation $P$ est exprimé dans les hypothèses de résolution de Theis par:\n",
    "    \n",
    "$$\n",
    "s_T = \\sum\\limits_{i=1}^n {\\frac{Q_i}{4 \\pi T}W \\left({\\frac{r_i^2S}{4Tt) }} \\right)}\n",
    "$$\n",
    "\n",
    "Le principe de superposition peut également être appliqué à la solution de Cooper-Jacob, à condition quer le critère pour $u$ soit respecté.\n"
   ]
  },
  {
   "cell_type": "markdown",
   "metadata": {},
   "source": [
    "**Application:**\n",
    "    \n",
    "On considère un doublet de puits exploitant une nappe captive. Les caractéristiques du système aquifère et du dispositif d'exploitation sont les suivantes:\n",
    "\n",
    "- Transmissivité de l'aquifère: kD = 1e-3 m2/s\n",
    "- Coefficient d'emmagasinnement: S = 1e-4\n",
    "- coordonnées du forage f1 (repère cartésien local): f1 = (200m, 200m)\n",
    "- coordonnées du forage f2 (repère cartésien local): f1 = (400m, 400m)\n",
    "- débit d'exploitation de f1: Q1 = 350 m3/j\n",
    "- débit d'exploitation de f2: Q2 = 500 m3/j\n",
    "- durée de pompage: t = 5 heures\n",
    "\n",
    "*Quel est le rabattement à un piézomètre P(300,350)?*\n"
   ]
  },
  {
   "cell_type": "code",
   "execution_count": 27,
   "metadata": {},
   "outputs": [
    {
     "name": "stdout",
     "output_type": "stream",
     "text": [
      "Le rabattement calculé au piézomètre P est s = 2.44 m\n"
     ]
    }
   ],
   "source": [
    "import numpy as np\n",
    "import scipy.special as sp\n",
    "import matplotlib.pyplot as plt\n",
    "\n",
    "kD = 1e-3 #(m2/s)\n",
    "S = 1e-4\n",
    "xf1 = 200 #0 < (m) < 600\n",
    "yf1 = 200 #0 < (m) < 600\n",
    "xf2 = 400 #0 < (m) < 600\n",
    "yf2 = 400 #0 < (m) < 600\n",
    "Qf1 = 350 #m3/j\n",
    "Qf2 = 500 #m3/j\n",
    "t = 5  # pompage synchrones heure\n",
    "\n",
    "xp = 300\n",
    "yp = 350\n",
    "\n",
    "#impact de f1 sur P\n",
    "r1 = np.sqrt((xp-xf1) ** 2 + (yp-yf1) ** 2)\n",
    "u1 = r1**2. * S / (4 * (kD * 86400) * (t / 24))\n",
    "sp1 = Qf1/(4 * np.pi * (kD * 86400)) * sp.exp1(u1)\n",
    "\n",
    "#impact de f2 sur P\n",
    "r2 = np.sqrt((xp-xf2) ** 2 + (yp-yf2) ** 2)\n",
    "u2 = r2**2. * S / (4 * (kD * 86400) * (t / 24))\n",
    "sp2 = Qf2/(4 * np.pi * (kD * 86400)) * sp.exp1(u2)\n",
    "\n",
    "#rabattement total sur P\n",
    "sp = sp1 + sp2\n",
    "print('Le rabattement calculé au piézomètre P est s = {:.3g} m'.format(sp))\n"
   ]
  },
  {
   "cell_type": "markdown",
   "metadata": {},
   "source": [
    "**Création d'une carte d'impact pour 2 puits de pompage**\n"
   ]
  },
  {
   "cell_type": "code",
   "execution_count": 1,
   "metadata": {},
   "outputs": [
    {
     "data": {
      "image/png": "[encoded data removed]",
      "text/plain": [
       "<Figure size 432x288 with 1 Axes>"
      ]
     },
     "metadata": {
      "needs_background": "light"
     },
     "output_type": "display_data"
    }
   ],
   "source": [
    "import numpy as np\n",
    "import scipy.special as sp\n",
    "import matplotlib.pyplot as plt\n",
    "\n",
    "kD = 1e-3 #(m2/s)\n",
    "S = 1e-4\n",
    "xf1 = 200 #0 < (m) < 600\n",
    "yf1 = 200 #0 < (m) < 600\n",
    "xf2 = 400 #0 < (m) < 600\n",
    "yf2 = 400 #0 < (m) < 600\n",
    "Qf1 = 350 #m3/j\n",
    "Qf2 = 500 #m3/j\n",
    "t = 5  # pompage synchrones heure\n",
    "\n",
    "\n",
    "x = np.linspace(0,600,600)\n",
    "y = np.linspace(0,600,600)\n",
    "X, Y = np.meshgrid(x, y)\n",
    "\n",
    "r1 = np.sqrt((X-xf1) ** 2 + (Y-yf1) ** 2)\n",
    "u1 = r1**2. * S / (4 * (kD * 86400) * (t / 24))\n",
    "s1 = Qf1/(4 * np.pi * (kD * 86400)) * sp.exp1(u1)\n",
    "\n",
    "r2 = np.sqrt((X-xf2) ** 2 + (Y-yf2) ** 2)\n",
    "u2 = r2**2. * S / (4 * (kD * 86400) * (t / 24))\n",
    "s2 = Qf2/(4 * np.pi * (kD * 86400)) * sp.exp1(u2)\n",
    "\n",
    "level = np.arange(1,5,0.50) #valeur des iso (min,max,delta)\n",
    "map = plt.contour(s1+s2,level)\n",
    "plt.clabel(map, fontsize=9, inline=1)\n",
    "plt.grid()\n",
    "plt.show()"
   ]
  },
  {
   "cell_type": "code",
   "execution_count": null,
   "metadata": {},
   "outputs": [],
   "source": []
  },
  {
   "cell_type": "code",
   "execution_count": null,
   "metadata": {
    "collapsed": true,
    "jupyter": {
     "outputs_hidden": true
    }
   },
   "outputs": [],
   "source": []
  }
 ],
 "metadata": {
  "kernelspec": {
   "display_name": "Python 3",
   "language": "python",
   "name": "python3"
  },
  "language_info": {
   "codemirror_mode": {
    "name": "ipython",
    "version": 3
   },
   "file_extension": ".py",
   "mimetype": "text/x-python",
   "name": "python",
   "nbconvert_exporter": "python",
   "pygments_lexer": "ipython3",
   "version": "3.7.6"
  }
 },
 "nbformat": 4,
 "nbformat_minor": 4
}
